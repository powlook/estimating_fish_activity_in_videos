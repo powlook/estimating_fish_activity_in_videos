{
 "cells": [
  {
   "cell_type": "code",
   "execution_count": 3,
   "metadata": {
    "ExecuteTime": {
     "end_time": "2022-04-22T16:01:31.811300Z",
     "start_time": "2022-04-22T16:01:31.801311Z"
    },
    "colab": {
     "base_uri": "https://localhost:8080/"
    },
    "executionInfo": {
     "elapsed": 4308,
     "status": "ok",
     "timestamp": 1675175061796,
     "user": {
      "displayName": "PL Yap",
      "userId": "04862772682578404355"
     },
     "user_tz": -480
    },
    "id": "IkzWnZdu3zP_",
    "outputId": "ad95c85a-3a77-41f6-c1d1-8c40ed123399"
   },
   "outputs": [
    {
     "name": "stdout",
     "output_type": "stream",
     "text": [
      "Drive already mounted at /content/gdrive; to attempt to forcibly remount, call drive.mount(\"/content/gdrive\", force_remount=True).\n"
     ]
    }
   ],
   "source": [
    "from google.colab import drive\n",
    "drive.mount('/content/gdrive')\n",
    "# Change working directory to be current folder\n",
    "import os\n",
    "os.chdir('/content/gdrive/My Drive/Umitron')"
   ]
  },
  {
   "cell_type": "code",
   "execution_count": null,
   "metadata": {
    "ExecuteTime": {
     "end_time": "2022-05-06T03:07:19.588977Z",
     "start_time": "2022-05-06T03:07:09.714211Z"
    },
    "colab": {
     "base_uri": "https://localhost:8080/"
    },
    "executionInfo": {
     "elapsed": 6598,
     "status": "ok",
     "timestamp": 1675175072651,
     "user": {
      "displayName": "PL Yap",
      "userId": "04862772682578404355"
     },
     "user_tz": -480
    },
    "id": "3eZH1wWw3ZCf",
    "outputId": "8010e8b9-8ddd-4572-812d-2d2c79abb07b"
   },
   "outputs": [
    {
     "ename": "",
     "evalue": "",
     "output_type": "error",
     "traceback": [
      "\u001b[1;31mRunning cells with 'c:\\Python38\\python.exe' requires the ipykernel package.\n",
      "\u001b[1;31mRun the following command to install 'ipykernel' into the Python environment. \n",
      "\u001b[1;31mCommand: 'c:/Python38/python.exe -m pip install ipykernel -U --user --force-reinstall'"
     ]
    }
   ],
   "source": [
    "import cv2\n",
    "import os\n",
    "from glob import glob\n",
    "import numpy as np\n",
    "import random\n",
    "import matplotlib.pyplot as plt\n",
    "%matplotlib inline\n",
    "\n",
    "from random import shuffle\n",
    "from sklearn.model_selection import train_test_split\n",
    "from sklearn.metrics import confusion_matrix, accuracy_score\n",
    "os.environ[\"CUDA_VISIBLE_DEVICES\"] = \"-1\"\n",
    "import tensorflow as tf\n",
    "from tensorflow.keras.layers import Activation, Conv3D, Dense, Dropout, Flatten, MaxPooling3D\n",
    "from tensorflow.keras.losses import categorical_crossentropy, binary_crossentropy\n",
    "from tensorflow.keras.models import Sequential, Model\n",
    "from tensorflow.keras.models import load_model\n",
    "from tensorflow.keras.optimizers import Adam\n",
    "from tensorflow.keras.preprocessing import image\n",
    "\n",
    "# Check GPU coinfiguration in Colab\n",
    "print(\"Tensorflow version: \", tf.__version__)\n",
    "print(tf.test.gpu_device_name())\n",
    "tf.config.list_physical_devices('CPU')"
   ]
  },
  {
   "cell_type": "markdown",
   "metadata": {
    "id": "DQI-9bZt3ZCj"
   },
   "source": [
    "# Explore the dataset\n"
   ]
  },
  {
   "cell_type": "code",
   "execution_count": 22,
   "metadata": {
    "ExecuteTime": {
     "end_time": "2022-04-23T04:41:28.008879Z",
     "start_time": "2022-04-23T04:41:27.995890Z"
    },
    "executionInfo": {
     "elapsed": 425,
     "status": "ok",
     "timestamp": 1675175238323,
     "user": {
      "displayName": "PL Yap",
      "userId": "04862772682578404355"
     },
     "user_tz": -480
    },
    "id": "Xgx-bDIe3ZCj"
   },
   "outputs": [],
   "source": [
    "# only '.avi' videos are used\n",
    "\n",
    "def load_all_file_names(input_path):\n",
    "\n",
    "    names, labels = [], []\n",
    "    random.seed(30)\n",
    "   \n",
    "    file_names = glob(input_path+'/*.mp4')\n",
    "    lo_cnt, mi_cnt, hi_cnt = 0, 0, 0  \n",
    "    for file_name in file_names:    \n",
    "        if file_name.split('\\\\')[1].split('.')[0][-1] =='0':\n",
    "            lo_cnt +=1\n",
    "            labels.append(0)\n",
    "            names.append(file_name)\n",
    "        elif file_name.split('\\\\')[1].split('.')[0][-1] =='1':\n",
    "            labels.append(1)\n",
    "            names.append(file_name)\n",
    "        elif file_name.split('\\\\')[1].split('.')[0][-1] =='2':\n",
    "            labels.append(2)\n",
    "            names.append(file_name)\n",
    "                              \n",
    "    c = list(zip(names,labels))\n",
    "    shuffle(c)\n",
    "    names, labels = zip(*c)\n",
    "    return names, labels\n"
   ]
  },
  {
   "cell_type": "code",
   "execution_count": 24,
   "metadata": {
    "ExecuteTime": {
     "end_time": "2022-04-23T04:41:52.251615Z",
     "start_time": "2022-04-23T04:41:52.237596Z"
    },
    "colab": {
     "base_uri": "https://localhost:8080/"
    },
    "executionInfo": {
     "elapsed": 1392,
     "status": "ok",
     "timestamp": 1675175438382,
     "user": {
      "displayName": "PL Yap",
      "userId": "04862772682578404355"
     },
     "user_tz": -480
    },
    "id": "LdyM0Fuip1yR",
    "outputId": "824cff61-e097-4859-9611-8b569af168a4"
   },
   "outputs": [
    {
     "name": "stdout",
     "output_type": "stream",
     "text": [
      "['train\\\\85551_2.mp4', 'train\\\\85578_1.mp4', 'train\\\\85555_2.mp4', 'train\\\\85393_1.mp4', 'train\\\\85582_1.mp4', 'train\\\\85323_0.mp4', 'train\\\\85602_2.mp4', 'train\\\\85577_0.mp4', 'train\\\\85604_1.mp4'] [2, 1, 2, 1, 1, 0, 2, 0, 1]\n"
     ]
    }
   ],
   "source": [
    "input_path = \"train\"\n",
    "#input_path = \"../opt_flow/train\"\n",
    "names, labels = load_all_file_names(input_path)\n",
    "train, labels = list(names), list(labels)\n",
    "\n",
    "print(train, labels)"
   ]
  },
  {
   "cell_type": "markdown",
   "metadata": {
    "id": "yEdUiVlb3ZC2"
   },
   "source": [
    "### Action recognition using C3D model\n",
    "\n",
    "A modified C3D model is used in the workshop to reduce model training time for demonstration purpose.\n",
    "\n",
    "- Reference: D. Tran, L. Bourdev, R. Fergus, L. Torresani, and M. Paluri, “Learning Spatiotemporal Features with 3D Convolutional Networks“, ICCV 2015, https://arxiv.org/abs/1412.0767"
   ]
  },
  {
   "cell_type": "code",
   "execution_count": 25,
   "metadata": {
    "ExecuteTime": {
     "end_time": "2022-04-22T16:03:08.222504Z",
     "start_time": "2022-04-22T16:03:08.213468Z"
    },
    "executionInfo": {
     "elapsed": 407,
     "status": "ok",
     "timestamp": 1675175469425,
     "user": {
      "displayName": "PL Yap",
      "userId": "04862772682578404355"
     },
     "user_tz": -480
    },
    "id": "wijRprjc3ZC3"
   },
   "outputs": [],
   "source": [
    "class Videoto3D:\n",
    "\n",
    "    def __init__(self, width, height, depth):\n",
    "        self.width = width\n",
    "        self.height = height\n",
    "        self.depth = depth\n",
    "\n",
    "    def get_data(self, filename, label):\n",
    "        cap = cv2.VideoCapture(filename)\n",
    "        nframe = int(cap.get(cv2.CAP_PROP_FRAME_COUNT))\n",
    "        print('tot num of frames in the video :', nframe)\n",
    "        \n",
    "        frame_stack = np.array([])\n",
    "        labels = []\n",
    "        for n in range(0, nframe, self.depth):\n",
    "\n",
    "            if  (nframe - n) < self.depth:\n",
    "                break\n",
    "\n",
    "            framearray = []\n",
    "            for i in range(self.depth):\n",
    "\n",
    "                ret, frame = cap.read()\n",
    "                \n",
    "                if ret:\n",
    "                    frame = cv2.resize(frame, (self.height, self.width))\n",
    "                    framearray.append(cv2.cvtColor(frame, cv2.COLOR_BGR2GRAY))\n",
    "                else:\n",
    "                    print(\"Error reading frames\")\n",
    "                    break\n",
    "            \n",
    "            framearray = np.expand_dims(np.array(framearray), axis=0)\n",
    "            frame_stack = np.vstack([frame_stack, framearray]) if frame_stack.size else framearray\n",
    "            labels.append(label) \n",
    "        \n",
    "        #print('len(labels) :', len(labels))\n",
    "            \n",
    "        cap.release()\n",
    "\n",
    "        return frame_stack, labels\n",
    "\n",
    "    \n",
    "def loaddata(video_list, vid3d):\n",
    "    X = np.array([])\n",
    "    labels_list = []\n",
    "    for idx, value in enumerate(video_list):\n",
    "        # Display the progress\n",
    "        if (idx % 100) == 0:\n",
    "            print(\"process data %d/%d\" % (idx, len(video_list)))\n",
    "        filename = value\n",
    "        label = int(value.split('.')[0][-1])\n",
    "        print('filename :', filename, 'label :', label)\n",
    "        frame_stack, labels = vid3d.get_data(filename, label)\n",
    "        X = np.vstack([X, frame_stack]) if X.size else frame_stack\n",
    "        labels_list.extend(labels)\n",
    "\n",
    "    return X, labels_list"
   ]
  },
  {
   "cell_type": "code",
   "execution_count": 26,
   "metadata": {
    "ExecuteTime": {
     "end_time": "2022-04-22T16:46:47.594570Z",
     "start_time": "2022-04-22T16:46:47.582540Z"
    },
    "executionInfo": {
     "elapsed": 942,
     "status": "ok",
     "timestamp": 1675175474832,
     "user": {
      "displayName": "PL Yap",
      "userId": "04862772682578404355"
     },
     "user_tz": -480
    },
    "id": "NQQ8eVRf3ZC5"
   },
   "outputs": [],
   "source": [
    "# Define parameter setting\n",
    "class Args:\n",
    "    batch = 128\n",
    "    epoch = 5\n",
    "    nclass = 3 # 11 action categories\n",
    "    depth = 10\n",
    "    rows = 32\n",
    "    cols = 32\n",
    "    skip = True # Skip: randomly extract frames; otherwise, extract first few frames\n",
    "\n",
    "param_setting = Args()\n",
    "img_rows = param_setting.rows\n",
    "img_cols = param_setting.cols\n",
    "frames = param_setting.depth\n",
    "channel = 1\n",
    "vid3d = Videoto3D(img_rows, img_cols, frames)\n",
    "nb_classes = param_setting.nclass\n"
   ]
  },
  {
   "cell_type": "code",
   "execution_count": 27,
   "metadata": {
    "id": "FD3kE9Rr3ZC8",
    "outputId": "989645e3-9b5e-4214-8632-967b320908c2"
   },
   "outputs": [
    {
     "name": "stdout",
     "output_type": "stream",
     "text": [
      "process data 0/9\n",
      "filename : train\\85551_2.mp4 label : 2\n",
      "tot num of frames in the video : 3594\n",
      "filename : train\\85578_1.mp4 label : 1\n",
      "tot num of frames in the video : 1798\n",
      "filename : train\\85555_2.mp4 label : 2\n",
      "tot num of frames in the video : 3594\n",
      "filename : train\\85393_1.mp4 label : 1\n",
      "tot num of frames in the video : 3600\n",
      "filename : train\\85582_1.mp4 label : 1\n",
      "tot num of frames in the video : 1795\n",
      "filename : train\\85323_0.mp4 label : 0\n",
      "tot num of frames in the video : 1791\n",
      "filename : train\\85602_2.mp4 label : 2\n",
      "tot num of frames in the video : 3597\n",
      "filename : train\\85577_0.mp4 label : 0\n",
      "tot num of frames in the video : 1791\n",
      "filename : train\\85604_1.mp4 label : 1\n",
      "tot num of frames in the video : 3597\n",
      "Class values in the dataset are ...  [0. 1.]\n",
      "(2009, 32, 32, 10, 1) (503, 32, 32, 10, 1) (2009, 3) (503, 3)\n"
     ]
    }
   ],
   "source": [
    "# Prepare training data\n",
    "x, y = loaddata(train, vid3d)\n",
    "x = x.reshape((x.shape[0], img_rows, img_cols, frames, channel))\n",
    "#c = list(zip(x, y))\n",
    "#shuffle(c)\n",
    "#x, y = zip(*c)\n",
    "#y = np.array(y)\n",
    "\n",
    "x_train, X_test, y_train, y_test = train_test_split(x, y, test_size = 0.20, random_state = 0)\n",
    "\n",
    "y_train, y_test = np.array(y_train), np.array(y_test)\n",
    "y_train = tf.keras.utils.to_categorical(y_train, nb_classes)\n",
    "y_test = tf.keras.utils.to_categorical(y_test, nb_classes)\n",
    "\n",
    "print(\"Class values in the dataset are ... \", np.unique(y_train))  # 0 is the background/few unlabeled \n",
    "print(x_train.shape, X_test.shape, y_train.shape, y_test.shape)\n"
   ]
  },
  {
   "cell_type": "code",
   "execution_count": 28,
   "metadata": {
    "ExecuteTime": {
     "end_time": "2022-04-23T03:58:27.673316Z",
     "start_time": "2022-04-23T03:58:27.628318Z"
    },
    "colab": {
     "base_uri": "https://localhost:8080/"
    },
    "executionInfo": {
     "elapsed": 3209,
     "status": "ok",
     "timestamp": 1675175491621,
     "user": {
      "displayName": "PL Yap",
      "userId": "04862772682578404355"
     },
     "user_tz": -480
    },
    "id": "sSDEmojMp1yU",
    "outputId": "f27c8223-0e9f-4ed7-e61f-c4ac90f54704"
   },
   "outputs": [
    {
     "name": "stdout",
     "output_type": "stream",
     "text": [
      "Training data (1607, 32, 32, 10, 1) (1607, 3)\n",
      "Validation data (402, 32, 32, 10, 1) (402, 3)\n",
      "Test data (503, 32, 32, 10, 1) (503, 3)\n"
     ]
    }
   ],
   "source": [
    "# np.savez(\"c3d_train.npz\", X=x_train, Y=y_train)\n",
    "# np.savez(\"c3d_test.npz\",  X=x_test,  Y=y_test)\n",
    "#with np.load(\"c3d_train.npz\") as npzfile:\n",
    "#    x_train = npzfile[\"X\"]\n",
    "#    y_train = npzfile[\"Y\"]\n",
    "    \n",
    "#with np.load(\"c3d_test.npz\") as npzfile:\n",
    "#    X_test = npzfile[\"X\"]\n",
    "#    y_test = npzfile[\"Y\"]\n",
    "    \n",
    "X_train, X_val, y_train, y_val = train_test_split(x_train, y_train, test_size = 0.20, random_state = 0)\n",
    "    \n",
    "print(\"Training data\", X_train.shape, y_train.shape)\n",
    "print(\"Validation data\", X_val.shape, y_val.shape)\n",
    "print(\"Test data\", x_test.shape, y_test.shape)"
   ]
  },
  {
   "cell_type": "code",
   "execution_count": 29,
   "metadata": {
    "ExecuteTime": {
     "end_time": "2022-04-23T04:46:58.643715Z",
     "start_time": "2022-04-23T04:46:58.302894Z"
    },
    "executionInfo": {
     "elapsed": 608,
     "status": "ok",
     "timestamp": 1675175531628,
     "user": {
      "displayName": "PL Yap",
      "userId": "04862772682578404355"
     },
     "user_tz": -480
    },
    "id": "zcMdsP5w3ZC_"
   },
   "outputs": [],
   "source": [
    "# Define deep learning model\n",
    "# This is simplified C3D model\n",
    "c3d_model = Sequential()\n",
    "c3d_model.add(Conv3D(32, kernel_size=(3, 3, 3), input_shape=(X_train.shape[1:]), padding='same'))\n",
    "c3d_model.add(Activation('relu'))\n",
    "c3d_model.add(Conv3D(32, kernel_size=(3, 3, 3), padding='same'))\n",
    "c3d_model.add(Activation('relu'))\n",
    "c3d_model.add(MaxPooling3D(pool_size=(3, 3, 3), padding='same'))\n",
    "c3d_model.add(Dropout(0.2))\n",
    "\n",
    "c3d_model.add(Conv3D(64, kernel_size=(3, 3, 3), padding='same'))\n",
    "c3d_model.add(Activation('relu'))\n",
    "c3d_model.add(Conv3D(64, kernel_size=(3, 3, 3), padding='same'))\n",
    "c3d_model.add(Activation('relu'))\n",
    "c3d_model.add(MaxPooling3D(pool_size=(3, 3, 3), padding='same'))\n",
    "c3d_model.add(Dropout(0.2))\n",
    "\n",
    "c3d_model.add(Flatten(name='flatten_feature'))\n",
    "c3d_model.add(Dense(512, activation='relu'))\n",
    "c3d_model.add(Dropout(0.2))\n",
    "c3d_model.add(Dense(nb_classes, activation='softmax'))\n",
    "\n",
    "c3d_model.compile(loss=categorical_crossentropy, optimizer=Adam(), metrics=['accuracy'])\n",
    "#c3d_model.summary()"
   ]
  },
  {
   "cell_type": "code",
   "execution_count": 30,
   "metadata": {
    "ExecuteTime": {
     "end_time": "2022-04-23T04:51:55.614205Z",
     "start_time": "2022-04-23T04:47:12.637784Z"
    },
    "colab": {
     "base_uri": "https://localhost:8080/"
    },
    "executionInfo": {
     "elapsed": 35982,
     "status": "ok",
     "timestamp": 1675175585285,
     "user": {
      "displayName": "PL Yap",
      "userId": "04862772682578404355"
     },
     "user_tz": -480
    },
    "id": "DpzMTZVk3ZDB",
    "outputId": "6620dd12-77c1-409f-a15a-fbf6a7443d73",
    "scrolled": true
   },
   "outputs": [
    {
     "name": "stdout",
     "output_type": "stream",
     "text": [
      "Epoch 1/20\n",
      "13/13 [==============================] - 77s 6s/step - loss: 22.8473 - accuracy: 0.4431 - val_loss: 1.0353 - val_accuracy: 0.4478\n",
      "Epoch 2/20\n",
      "13/13 [==============================] - 78s 6s/step - loss: 0.9740 - accuracy: 0.4586 - val_loss: 0.8344 - val_accuracy: 0.4328\n",
      "Epoch 3/20\n",
      "13/13 [==============================] - 79s 6s/step - loss: 0.6613 - accuracy: 0.6416 - val_loss: 0.4696 - val_accuracy: 0.7985\n",
      "Epoch 4/20\n",
      "13/13 [==============================] - 78s 6s/step - loss: 0.3860 - accuracy: 0.8189 - val_loss: 0.2457 - val_accuracy: 0.8284\n",
      "Epoch 5/20\n",
      "13/13 [==============================] - 77s 6s/step - loss: 0.1772 - accuracy: 0.9091 - val_loss: 0.1598 - val_accuracy: 0.9055\n",
      "Epoch 6/20\n",
      "13/13 [==============================] - 79s 6s/step - loss: 0.1419 - accuracy: 0.9390 - val_loss: 0.1220 - val_accuracy: 0.9652\n",
      "Epoch 7/20\n",
      "13/13 [==============================] - 82s 6s/step - loss: 0.0841 - accuracy: 0.9708 - val_loss: 0.0560 - val_accuracy: 0.9801\n",
      "Epoch 8/20\n",
      "13/13 [==============================] - 79s 6s/step - loss: 0.0491 - accuracy: 0.9844 - val_loss: 0.0322 - val_accuracy: 0.9900\n",
      "Epoch 9/20\n",
      "13/13 [==============================] - 78s 6s/step - loss: 0.0459 - accuracy: 0.9838 - val_loss: 0.0451 - val_accuracy: 0.9876\n",
      "Epoch 10/20\n",
      "13/13 [==============================] - 78s 6s/step - loss: 0.0425 - accuracy: 0.9844 - val_loss: 0.1517 - val_accuracy: 0.9403\n",
      "Epoch 11/20\n",
      "13/13 [==============================] - 77s 6s/step - loss: 0.0532 - accuracy: 0.9788 - val_loss: 0.0318 - val_accuracy: 0.9925\n",
      "Epoch 12/20\n",
      "13/13 [==============================] - 79s 6s/step - loss: 0.0378 - accuracy: 0.9876 - val_loss: 0.0606 - val_accuracy: 0.9801\n",
      "Epoch 13/20\n",
      "13/13 [==============================] - 81s 6s/step - loss: 0.0304 - accuracy: 0.9900 - val_loss: 0.0587 - val_accuracy: 0.9776\n",
      "Epoch 14/20\n",
      "13/13 [==============================] - 81s 6s/step - loss: 0.0597 - accuracy: 0.9757 - val_loss: 0.0124 - val_accuracy: 0.9950\n",
      "Epoch 15/20\n",
      "13/13 [==============================] - 80s 6s/step - loss: 0.0593 - accuracy: 0.9826 - val_loss: 0.0306 - val_accuracy: 0.9950\n",
      "Epoch 16/20\n",
      "13/13 [==============================] - 79s 6s/step - loss: 0.0207 - accuracy: 0.9950 - val_loss: 0.0133 - val_accuracy: 0.9975\n",
      "Epoch 17/20\n",
      "13/13 [==============================] - 78s 6s/step - loss: 0.0140 - accuracy: 0.9969 - val_loss: 0.0097 - val_accuracy: 0.9975\n",
      "Epoch 18/20\n",
      "13/13 [==============================] - 79s 6s/step - loss: 0.0119 - accuracy: 0.9969 - val_loss: 0.0090 - val_accuracy: 0.9975\n",
      "Epoch 19/20\n",
      "13/13 [==============================] - 79s 6s/step - loss: 0.0070 - accuracy: 0.9988 - val_loss: 0.0117 - val_accuracy: 0.9950\n",
      "Epoch 20/20\n",
      "13/13 [==============================] - 80s 6s/step - loss: 0.0299 - accuracy: 0.9913 - val_loss: 0.0162 - val_accuracy: 0.9975\n"
     ]
    }
   ],
   "source": [
    "# You can uncomment if you want to re-build the model; otherwise, load them from the data files\n",
    "\n",
    "history = c3d_model.fit(X_train, y_train, validation_data=(X_val, y_val), batch_size=128, epochs=20, verbose=1, shuffle=True)\n",
    "\n",
    "#c3d_model.save_weights(\"c3d_opt_flow_RWF_2000.h5\")"
   ]
  },
  {
   "cell_type": "code",
   "execution_count": 31,
   "metadata": {
    "ExecuteTime": {
     "end_time": "2022-04-23T04:52:06.410759Z",
     "start_time": "2022-04-23T04:52:04.969960Z"
    },
    "colab": {
     "base_uri": "https://localhost:8080/"
    },
    "executionInfo": {
     "elapsed": 481,
     "status": "ok",
     "timestamp": 1675175643549,
     "user": {
      "displayName": "PL Yap",
      "userId": "04862772682578404355"
     },
     "user_tz": -480
    },
    "id": "ZfHPV5t93ZDD",
    "outputId": "882d836e-9b5f-4782-d011-bf17a45e500d"
   },
   "outputs": [
    {
     "name": "stdout",
     "output_type": "stream",
     "text": [
      "Confusion matrix\n",
      "[[ 73   0   0]\n",
      " [  0 212   1]\n",
      " [  2   0 215]]\n",
      "Accuracy Score : 0.9940357852882704\n"
     ]
    }
   ],
   "source": [
    "# Load the pre-trained model\n",
    "# c3d_model.load_weights(\"c3d_RWF_2000.h5\")\n",
    "\n",
    "# Evaluate the deep learning model\n",
    "y_pred = c3d_model.predict(x_test, verbose=0)\n",
    "print(\"Confusion matrix\")\n",
    "print(confusion_matrix(np.argmax(y_test, axis=1), np.argmax(y_pred, axis=1)))\n",
    "print('Accuracy Score :', accuracy_score(np.argmax(y_test, axis=1), np.argmax(y_pred, axis=1)))"
   ]
  },
  {
   "cell_type": "code",
   "execution_count": 32,
   "metadata": {},
   "outputs": [
    {
     "data": {
      "text/plain": [
       "array([0, 2, 0, 1, 1, 0, 0, 0, 2, 2], dtype=int64)"
      ]
     },
     "execution_count": 32,
     "metadata": {},
     "output_type": "execute_result"
    }
   ],
   "source": [
    "np.argmax(y_pred, axis=1)[0:10]"
   ]
  },
  {
   "cell_type": "code",
   "execution_count": 33,
   "metadata": {},
   "outputs": [
    {
     "data": {
      "text/plain": [
       "array([0, 2, 0, 1, 1, 0, 0, 0, 2, 2], dtype=int64)"
      ]
     },
     "execution_count": 33,
     "metadata": {},
     "output_type": "execute_result"
    }
   ],
   "source": [
    "np.argmax(y_test, axis=1)[0:10]"
   ]
  },
  {
   "cell_type": "code",
   "execution_count": 20,
   "metadata": {
    "ExecuteTime": {
     "end_time": "2022-04-23T04:52:17.450580Z",
     "start_time": "2022-04-23T04:52:17.104774Z"
    },
    "colab": {
     "base_uri": "https://localhost:8080/",
     "height": 642
    },
    "executionInfo": {
     "elapsed": 858,
     "status": "ok",
     "timestamp": 1675175697483,
     "user": {
      "displayName": "PL Yap",
      "userId": "04862772682578404355"
     },
     "user_tz": -480
    },
    "id": "9YqPhHDfp1yV",
    "outputId": "2a24ccd4-7835-4fe5-b38a-ecf6fe5b9877"
   },
   "outputs": [
    {
     "name": "stderr",
     "output_type": "stream",
     "text": [
      "WARNING:matplotlib.backends.backend_ps:The PostScript backend does not support transparency; partially transparent artists will be rendered opaque.\n",
      "WARNING:matplotlib.backends.backend_ps:The PostScript backend does not support transparency; partially transparent artists will be rendered opaque.\n"
     ]
    },
    {
     "data": {
      "image/png": "[encoded data removed]",
      "text/plain": [
       "<Figure size 432x288 with 1 Axes>"
      ]
     },
     "metadata": {
      "needs_background": "light"
     },
     "output_type": "display_data"
    },
    {
     "name": "stderr",
     "output_type": "stream",
     "text": [
      "WARNING:matplotlib.backends.backend_ps:The PostScript backend does not support transparency; partially transparent artists will be rendered opaque.\n",
      "WARNING:matplotlib.backends.backend_ps:The PostScript backend does not support transparency; partially transparent artists will be rendered opaque.\n"
     ]
    },
    {
     "data": {
      "image/png": "[encoded data removed]",
      "text/plain": [
       "<Figure size 432x288 with 1 Axes>"
      ]
     },
     "metadata": {
      "needs_background": "light"
     },
     "output_type": "display_data"
    }
   ],
   "source": [
    "plt.plot(history.history['accuracy'])\n",
    "plt.plot(history.history['val_accuracy'])\n",
    "plt.title('model accuracy')\n",
    "plt.ylabel('accuracy')\n",
    "plt.xlabel('epoch')\n",
    "plt.legend(['train', 'validation'], loc='upper left')\n",
    "plt.savefig('c3d_rgb_accuracy.eps', format='eps', dpi=1000)\n",
    "plt.show()\n",
    "# summarize history for loss\n",
    "plt.plot(history.history['loss'][1:])\n",
    "plt.plot(history.history['val_loss'][1:])\n",
    "plt.title('model loss')\n",
    "plt.ylabel('loss')\n",
    "plt.xlabel('epoch')\n",
    "plt.legend(['train', 'validation'], loc='upper left')\n",
    "plt.savefig('c3d_rgb_loss.eps', format='eps', dpi=1000)\n",
    "plt.show()"
   ]
  },
  {
   "cell_type": "code",
   "execution_count": null,
   "metadata": {
    "id": "gjM8M89Jp1yW"
   },
   "outputs": [],
   "source": [
    "import pandas as pd\n",
    "df_history = pd.DataFrame(history.history, columns=['loss', 'accuracy', 'val_loss', 'val_accuracy'])\n",
    "df_history.to_csv('results/c3d_2000.csv')"
   ]
  },
  {
   "cell_type": "markdown",
   "metadata": {
    "id": "DWBBhV0w3ZDG"
   },
   "source": [
    "$\\color{black}{\\text{Use fully connected layer response from the C3D model}}$\n",
    "\n",
    "Tasks\n",
    "- Extract the fully connected layer response `flatten_feature` from the C3D model `c3d_model` as features from the training data `x_train`\n",
    "- Labels are provided in `ucf_train` and `ucf_test`\n",
    "- Build a classification model, such as SVM\n",
    "- Perform classification on `x_test`, display the confusion matrix\n"
   ]
  },
  {
   "cell_type": "code",
   "execution_count": null,
   "metadata": {
    "ExecuteTime": {
     "end_time": "2022-04-23T04:13:11.612970Z",
     "start_time": "2022-04-23T04:13:06.965592Z"
    },
    "id": "jLT8rXEnp1yW"
   },
   "outputs": [],
   "source": [
    "# Load the pre-trained model\n",
    "#c3d_model.load_weights(\"model_RWF_2000_c3d.h5\")\n",
    "\n",
    "# Evaluate the deep learning model\n",
    "extract_flatten_feature = Model(inputs=c3d_model.input, outputs=c3d_model.get_layer('flatten_feature').output)\n",
    "x_train_features = extract_flatten_feature.predict(x_train, verbose=0)\n",
    "y_train_labels = np.array(labels[:train_count])\n",
    "x_test_features = extract_flatten_feature.predict(x_test, verbose=0)\n",
    "y_test_labels = np.array(labels[train_count:])\n",
    "x_train_features.shape, y_train_labels.shape, x_test_features.shape, y_test_labels.shape\n",
    "\n",
    "# from sklearn.svm import SVC\n",
    "\n",
    "svm_clf = SVC()\n",
    "svm_clf.fit(x_train_features, y_train_labels)\n",
    "y_pred = svm_clf.predict(x_test_features)\n",
    "print('Confusion Matrix :')\n",
    "print(confusion_matrix(y_pred, y_test_labels))\n",
    "print('Accuracy Score :', accuracy_score(y_pred, y_test_labels))"
   ]
  },
  {
   "cell_type": "code",
   "execution_count": null,
   "metadata": {
    "id": "M2AJ_-va4Z-s"
   },
   "outputs": [],
   "source": [
    "label = 1\n",
    "labels = []"
   ]
  },
  {
   "cell_type": "code",
   "execution_count": null,
   "metadata": {
    "id": "1AL16MdHLizo"
   },
   "outputs": [],
   "source": [
    "labels.append(label)\n",
    "print(labels)"
   ]
  }
 ],
 "metadata": {
  "colab": {
   "machine_shape": "hm",
   "provenance": []
  },
  "gpuClass": "premium",
  "kernelspec": {
   "display_name": "Python 3",
   "language": "python",
   "name": "python3"
  },
  "language_info": {
   "codemirror_mode": {
    "name": "ipython",
    "version": 3
   },
   "file_extension": ".py",
   "mimetype": "text/x-python",
   "name": "python",
   "nbconvert_exporter": "python",
   "pygments_lexer": "ipython3",
   "version": "3.8.3"
  },
  "varInspector": {
   "cols": {
    "lenName": 16,
    "lenType": 16,
    "lenVar": 40
   },
   "kernels_config": {
    "python": {
     "delete_cmd_postfix": "",
     "delete_cmd_prefix": "del ",
     "library": "var_list.py",
     "varRefreshCmd": "print(var_dic_list())"
    },
    "r": {
     "delete_cmd_postfix": ") ",
     "delete_cmd_prefix": "rm(",
     "library": "var_list.r",
     "varRefreshCmd": "cat(var_dic_list()) "
    }
   },
   "types_to_exclude": [
    "module",
    "function",
    "builtin_function_or_method",
    "instance",
    "_Feature"
   ],
   "window_display": false
  },
  "vscode": {
   "interpreter": {
    "hash": "9650cb4e16cdd4a8e8e2d128bf38d875813998db22a3c986335f89e0cb4d7bb2"
   }
  }
 },
 "nbformat": 4,
 "nbformat_minor": 1
}
